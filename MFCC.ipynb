{
 "cells": [
  {
   "cell_type": "markdown",
   "metadata": {},
   "source": [
    "# Imports"
   ]
  },
  {
   "cell_type": "code",
   "execution_count": 107,
   "metadata": {},
   "outputs": [],
   "source": [
    "import numpy as np\n",
    "from scipy.io import wavfile\n",
    "from scipy.fftpack import dct\n",
    "from matplotlib import pyplot\n",
    "from hmmlearn import hmm\n",
    "from librosa.feature import mfcc\n",
    "import pickle"
   ]
  },
  {
   "cell_type": "code",
   "execution_count": 120,
   "metadata": {},
   "outputs": [],
   "source": [
    "import warnings\n",
    "warnings.filterwarnings(\"ignore\")"
   ]
  },
  {
   "cell_type": "markdown",
   "metadata": {},
   "source": [
    "# Read Files"
   ]
  },
  {
   "cell_type": "code",
   "execution_count": 126,
   "metadata": {},
   "outputs": [],
   "source": [
    "train_path = \"./Recordings/British/\""
   ]
  },
  {
   "cell_type": "code",
   "execution_count": 127,
   "metadata": {},
   "outputs": [],
   "source": [
    "test_path = \"./Recordings/American/\""
   ]
  },
  {
   "cell_type": "code",
   "execution_count": 93,
   "metadata": {},
   "outputs": [
    {
     "name": "stderr",
     "output_type": "stream",
     "text": [
      "C:\\Users\\Benji\\Anaconda2\\envs\\py3amt\\lib\\site-packages\\scipy\\io\\wavfile.py:273: WavFileWarning: Chunk (non-data) not understood, skipping it.\n",
      "  WavFileWarning)\n"
     ]
    }
   ],
   "source": [
    "fs, data = wavfile.read(test_path)\n",
    "data = data[:,0]\n",
    "data = [float(i) for i in data]\n",
    "data = np.array(data)"
   ]
  },
  {
   "cell_type": "markdown",
   "metadata": {},
   "source": [
    "# Calculated MFCCs By Hand"
   ]
  },
  {
   "cell_type": "code",
   "execution_count": 5,
   "metadata": {},
   "outputs": [],
   "source": [
    "s = 1/44100\n",
    "# 25ms\n",
    "window_size = 1103\n",
    "\n",
    "# 10ms\n",
    "window_size1 = 441\n"
   ]
  },
  {
   "cell_type": "code",
   "execution_count": 6,
   "metadata": {},
   "outputs": [
    {
     "name": "stdout",
     "output_type": "stream",
     "text": [
      "start\n",
      "end\n"
     ]
    }
   ],
   "source": [
    "frames = []\n",
    "start = 0\n",
    "end = window_size\n",
    "finish_loop = True\n",
    "\n",
    "print('start')\n",
    "\n",
    "while(finish_loop):\n",
    "    temp_frame = []\n",
    "    for i in range(window_size):\n",
    "        index = i+start\n",
    "        if (index>data.shape[0]-1):\n",
    "            finish_loop = False\n",
    "            break\n",
    "        else:\n",
    "            temp_frame.append(data[index])\n",
    "    frames.append(temp_frame)\n",
    "    start = start + window_size1\n",
    "print('end')\n",
    "frames = np.array(frames)"
   ]
  },
  {
   "cell_type": "code",
   "execution_count": 7,
   "metadata": {},
   "outputs": [],
   "source": [
    "spec=[]\n",
    "for frame in frames:\n",
    "    temp_spec=[]\n",
    "    spec_frame = np.fft.fft(frame,512)\n",
    "    spec.append(np.square(np.real(spec_frame)[:256]))"
   ]
  },
  {
   "cell_type": "code",
   "execution_count": 8,
   "metadata": {},
   "outputs": [],
   "source": [
    "freq_bins = np.arange(256)/512*fs"
   ]
  },
  {
   "cell_type": "code",
   "execution_count": 9,
   "metadata": {},
   "outputs": [],
   "source": [
    "freq_bins = freq_bins[:94]"
   ]
  },
  {
   "cell_type": "code",
   "execution_count": 11,
   "metadata": {},
   "outputs": [],
   "source": [
    "h = [0, 300, 517.33, 781.90, 1103.97, 1496.04, 1973.32, 2554.33, \n",
    "       3261.62, 4122.63, 5170.76, 6446.70, 8000]"
   ]
  },
  {
   "cell_type": "code",
   "execution_count": 12,
   "metadata": {},
   "outputs": [],
   "source": [
    "w=[]\n",
    "for i in range(13):\n",
    "    if i==0:\n",
    "        continue\n",
    "    w.append(1/(h[i]-h[i-1]))"
   ]
  },
  {
   "cell_type": "code",
   "execution_count": 14,
   "metadata": {},
   "outputs": [],
   "source": [
    "c= []\n",
    "for i in range(12):\n",
    "    if i==0:\n",
    "        c.append(0)\n",
    "    else:\n",
    "        c.append(1-w[i]*h[i])\n",
    "    \n",
    "c1= []\n",
    "for i in range(12):\n",
    "    if i==0:\n",
    "        c1.append(1)\n",
    "    else:\n",
    "        c1.append(1+w[i]*h[i])"
   ]
  },
  {
   "cell_type": "code",
   "execution_count": 98,
   "metadata": {},
   "outputs": [],
   "source": [
    "o = np.ones((len(spec),len(c)))\n",
    "k=0\n",
    "for spec_frame in spec:\n",
    "    for i in range(len(h)-1):\n",
    "        temp_o = 0\n",
    "        if i==0:\n",
    "            for j in range(len(freq_bins)):\n",
    "                f = freq_bins[j]\n",
    "                if f<h[i+1]:\n",
    "                    temp_o=temp_o+(-w[i]*f+c1[i])*spec_frame[j]\n",
    "            o[k,i] = temp_o\n",
    "            \n",
    "        else:\n",
    "            for j in range(len(freq_bins)):\n",
    "                f = freq_bins[j]\n",
    "                if f>h[i-1] and f<h[i]:\n",
    "                    temp_o=temp_o+(w[i]*f+c[i])*spec_frame[j]\n",
    "                elif (f>h[i] and f<(2*h[i]-h[i-1])):\n",
    "                    temp_o=temp_o+(-w[i]*f+c1[i])*spec_frame[j]\n",
    "            o[k,i] = temp_o\n",
    "            \n",
    "    k=k+1 \n",
    "o = np.log(o)\n",
    "o = dct(o)"
   ]
  },
  {
   "cell_type": "markdown",
   "metadata": {},
   "source": [
    "# MFCC Calculation"
   ]
  },
  {
   "cell_type": "code",
   "execution_count": 95,
   "metadata": {},
   "outputs": [],
   "source": [
    "mfcc_features = mfcc(data,sr=fs,n_mfcc=13)"
   ]
  },
  {
   "cell_type": "markdown",
   "metadata": {},
   "source": [
    "# Model"
   ]
  },
  {
   "cell_type": "code",
   "execution_count": 99,
   "metadata": {},
   "outputs": [],
   "source": [
    "model1 = hmm.GaussianHMM(n_components=3,n_iter=1000)\n",
    "model2 = hmm.GaussianHMM(n_components=3,n_iter=1000)\n",
    "model3 = hmm.GaussianHMM(n_components=3,n_iter=1000)\n",
    "model4 = hmm.GaussianHMM(n_components=3,n_iter=1000)\n",
    "model5 = hmm.GaussianHMM(n_components=3,n_iter=1000)\n",
    "model6 = hmm.GaussianHMM(n_components=3,n_iter=1000)\n",
    "model7 = hmm.GaussianHMM(n_components=3,n_iter=1000)\n",
    "model8 = hmm.GaussianHMM(n_components=3,n_iter=1000)\n",
    "model9 = hmm.GaussianHMM(n_components=3,n_iter=1000)"
   ]
  },
  {
   "cell_type": "code",
   "execution_count": 89,
   "metadata": {},
   "outputs": [
    {
     "data": {
      "text/plain": [
       "GaussianHMM(algorithm='viterbi', covariance_type='diag', covars_prior=0.01,\n",
       "      covars_weight=1, init_params='stmc', means_prior=0, means_weight=0,\n",
       "      min_covar=0.001, n_components=3, n_iter=10000, params='stmc',\n",
       "      random_state=None, startprob_prior=1.0, tol=0.01, transmat_prior=1.0,\n",
       "      verbose=False)"
      ]
     },
     "execution_count": 89,
     "metadata": {},
     "output_type": "execute_result"
    }
   ],
   "source": [
    "model1.fit()"
   ]
  },
  {
   "cell_type": "code",
   "execution_count": 115,
   "metadata": {},
   "outputs": [
    {
     "name": "stderr",
     "output_type": "stream",
     "text": [
      "C:\\Users\\Benji\\Anaconda2\\envs\\py3amt\\lib\\site-packages\\scipy\\io\\wavfile.py:273: WavFileWarning: Chunk (non-data) not understood, skipping it.\n",
      "  WavFileWarning)\n",
      "C:\\Users\\Benji\\Anaconda2\\envs\\py3amt\\lib\\site-packages\\scipy\\io\\wavfile.py:273: WavFileWarning: Chunk (non-data) not understood, skipping it.\n",
      "  WavFileWarning)\n",
      "C:\\Users\\Benji\\Anaconda2\\envs\\py3amt\\lib\\site-packages\\scipy\\io\\wavfile.py:273: WavFileWarning: Chunk (non-data) not understood, skipping it.\n",
      "  WavFileWarning)\n"
     ]
    },
    {
     "name": "stdout",
     "output_type": "stream",
     "text": [
      "1\n",
      "2\n",
      "3\n"
     ]
    },
    {
     "name": "stderr",
     "output_type": "stream",
     "text": [
      "C:\\Users\\Benji\\Anaconda2\\envs\\py3amt\\lib\\site-packages\\scipy\\io\\wavfile.py:273: WavFileWarning: Chunk (non-data) not understood, skipping it.\n",
      "  WavFileWarning)\n",
      "C:\\Users\\Benji\\Anaconda2\\envs\\py3amt\\lib\\site-packages\\scipy\\io\\wavfile.py:273: WavFileWarning: Chunk (non-data) not understood, skipping it.\n",
      "  WavFileWarning)\n",
      "C:\\Users\\Benji\\Anaconda2\\envs\\py3amt\\lib\\site-packages\\scipy\\io\\wavfile.py:273: WavFileWarning: Chunk (non-data) not understood, skipping it.\n",
      "  WavFileWarning)\n"
     ]
    },
    {
     "name": "stdout",
     "output_type": "stream",
     "text": [
      "4\n",
      "5\n",
      "6\n"
     ]
    },
    {
     "name": "stderr",
     "output_type": "stream",
     "text": [
      "C:\\Users\\Benji\\Anaconda2\\envs\\py3amt\\lib\\site-packages\\scipy\\io\\wavfile.py:273: WavFileWarning: Chunk (non-data) not understood, skipping it.\n",
      "  WavFileWarning)\n",
      "C:\\Users\\Benji\\Anaconda2\\envs\\py3amt\\lib\\site-packages\\scipy\\io\\wavfile.py:273: WavFileWarning: Chunk (non-data) not understood, skipping it.\n",
      "  WavFileWarning)\n",
      "C:\\Users\\Benji\\Anaconda2\\envs\\py3amt\\lib\\site-packages\\scipy\\io\\wavfile.py:273: WavFileWarning: Chunk (non-data) not understood, skipping it.\n",
      "  WavFileWarning)\n"
     ]
    },
    {
     "name": "stdout",
     "output_type": "stream",
     "text": [
      "7\n",
      "8\n",
      "9\n"
     ]
    }
   ],
   "source": [
    "for i in range(9):\n",
    "    i=i+1\n",
    "    fs, data = wavfile.read(train_path+str(i)+'.wav')\n",
    "    data = data[:,0]\n",
    "    data = [float(i) for i in data]\n",
    "    data = np.array(data)\n",
    "    mfcc_features = mfcc(data,sr=fs,n_mfcc=13).T\n",
    "    \n",
    "    model = hmm.GaussianHMM(n_components=3,n_iter=1000)\n",
    "    model.fit(mfcc_features)\n",
    "    with open(train_path+\"model_\"+str(i)+\".pkl\", \"wb\") as file: pickle.dump(model, file)\n",
    "    \n",
    "    print(i)"
   ]
  },
  {
   "cell_type": "markdown",
   "metadata": {},
   "source": [
    "# Testing"
   ]
  },
  {
   "cell_type": "code",
   "execution_count": 130,
   "metadata": {},
   "outputs": [
    {
     "name": "stdout",
     "output_type": "stream",
     "text": [
      "predicted label -  5  actual label -  1\n",
      "\n",
      "predicted label -  2  actual label -  2\n",
      "\n",
      "predicted label -  5  actual label -  3\n",
      "\n",
      "predicted label -  5  actual label -  4\n",
      "\n",
      "predicted label -  5  actual label -  5\n",
      "\n",
      "predicted label -  6  actual label -  6\n",
      "\n",
      "predicted label -  6  actual label -  7\n",
      "\n",
      "predicted label -  8  actual label -  8\n",
      "\n",
      "predicted label -  5  actual label -  9\n",
      "\n"
     ]
    }
   ],
   "source": [
    "for i in range(9):\n",
    "    i=i+1\n",
    "    fs, data = wavfile.read(test_path+str(i)+'.wav')\n",
    "    data = data[:,0]\n",
    "    data = [float(i) for i in data]\n",
    "    data = np.array(data)\n",
    "    mfcc_features = mfcc(data,sr=fs,n_mfcc=13).T\n",
    "    \n",
    "    max_score = -float(\"inf\")\n",
    "    max_label = 0\n",
    "    for j in range(9):\n",
    "        j=j+1\n",
    "        model = pickle.load(open(train_path+\"model_\"+str(j)+\".pkl\", 'rb'))\n",
    "        \n",
    "        scr = model.score(mfcc_features)\n",
    "        if scr > max_score:\n",
    "            max_score=scr\n",
    "            max_label = j\n",
    "    print(\"predicted label - \",max_label,\" actual label - \",i)\n",
    "        \n",
    "    print()"
   ]
  },
  {
   "cell_type": "code",
   "execution_count": null,
   "metadata": {},
   "outputs": [],
   "source": []
  }
 ],
 "metadata": {
  "kernelspec": {
   "display_name": "Python 3",
   "language": "python",
   "name": "python3"
  },
  "language_info": {
   "codemirror_mode": {
    "name": "ipython",
    "version": 3
   },
   "file_extension": ".py",
   "mimetype": "text/x-python",
   "name": "python",
   "nbconvert_exporter": "python",
   "pygments_lexer": "ipython3",
   "version": "3.6.6"
  }
 },
 "nbformat": 4,
 "nbformat_minor": 2
}
