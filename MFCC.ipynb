{
 "cells": [
  {
   "cell_type": "code",
   "execution_count": 125,
   "metadata": {},
   "outputs": [],
   "source": [
    "import numpy as np\n",
    "from scipy.io import wavfile\n",
    "from matplotlib import pyplot"
   ]
  },
  {
   "cell_type": "code",
   "execution_count": 9,
   "metadata": {},
   "outputs": [],
   "source": [
    "test_path = \"./Recordings/British/One.wav\""
   ]
  },
  {
   "cell_type": "code",
   "execution_count": 18,
   "metadata": {},
   "outputs": [],
   "source": [
    "fs, data = wavfile.read(test_path)\n",
    "data = data[:,0]"
   ]
  },
  {
   "cell_type": "code",
   "execution_count": 26,
   "metadata": {},
   "outputs": [
    {
     "data": {
      "text/plain": [
       "44100"
      ]
     },
     "execution_count": 26,
     "metadata": {},
     "output_type": "execute_result"
    }
   ],
   "source": [
    "fs"
   ]
  },
  {
   "cell_type": "code",
   "execution_count": 40,
   "metadata": {},
   "outputs": [],
   "source": [
    "s = 1/44100\n",
    "# 25ms\n",
    "window_size = 1103\n",
    "\n",
    "# 10ms\n",
    "window_size1 = 441\n"
   ]
  },
  {
   "cell_type": "code",
   "execution_count": 77,
   "metadata": {},
   "outputs": [
    {
     "name": "stdout",
     "output_type": "stream",
     "text": [
      "start\n",
      "end\n"
     ]
    }
   ],
   "source": [
    "frames = []\n",
    "start = 0\n",
    "end = window_size\n",
    "finish_loop = True\n",
    "\n",
    "print('start')\n",
    "\n",
    "while(finish_loop):\n",
    "    temp_frame = []\n",
    "    for i in range(window_size):\n",
    "        index = i+start\n",
    "        if (index>data.shape[0]-1):\n",
    "            finish_loop = False\n",
    "            break\n",
    "        else:\n",
    "            temp_frame.append(data[index])\n",
    "    frames.append(temp_frame)\n",
    "    start = start + window_size1\n",
    "print('end')\n",
    "frames = np.array(frames)"
   ]
  },
  {
   "cell_type": "code",
   "execution_count": 144,
   "metadata": {},
   "outputs": [],
   "source": [
    "spec=[]\n",
    "for frame in frames:\n",
    "    temp_spec=[]\n",
    "    spec_frame = np.fft.fft(frame,512)\n",
    "    spec.append(np.square(np.real(spec_frame)[:256]))"
   ]
  },
  {
   "cell_type": "code",
   "execution_count": 159,
   "metadata": {},
   "outputs": [],
   "source": [
    "freq_bins = np.arange(256)/512*fs"
   ]
  },
  {
   "cell_type": "code",
   "execution_count": 160,
   "metadata": {},
   "outputs": [],
   "source": [
    "freq_bins = freq_bins[:94]"
   ]
  },
  {
   "cell_type": "code",
   "execution_count": 161,
   "metadata": {},
   "outputs": [
    {
     "data": {
      "text/plain": [
       "array([   0.       ,   86.1328125,  172.265625 ,  258.3984375,\n",
       "        344.53125  ,  430.6640625,  516.796875 ,  602.9296875,\n",
       "        689.0625   ,  775.1953125,  861.328125 ,  947.4609375,\n",
       "       1033.59375  , 1119.7265625, 1205.859375 , 1291.9921875,\n",
       "       1378.125    , 1464.2578125, 1550.390625 , 1636.5234375,\n",
       "       1722.65625  , 1808.7890625, 1894.921875 , 1981.0546875,\n",
       "       2067.1875   , 2153.3203125, 2239.453125 , 2325.5859375,\n",
       "       2411.71875  , 2497.8515625, 2583.984375 , 2670.1171875,\n",
       "       2756.25     , 2842.3828125, 2928.515625 , 3014.6484375,\n",
       "       3100.78125  , 3186.9140625, 3273.046875 , 3359.1796875,\n",
       "       3445.3125   , 3531.4453125, 3617.578125 , 3703.7109375,\n",
       "       3789.84375  , 3875.9765625, 3962.109375 , 4048.2421875,\n",
       "       4134.375    , 4220.5078125, 4306.640625 , 4392.7734375,\n",
       "       4478.90625  , 4565.0390625, 4651.171875 , 4737.3046875,\n",
       "       4823.4375   , 4909.5703125, 4995.703125 , 5081.8359375,\n",
       "       5167.96875  , 5254.1015625, 5340.234375 , 5426.3671875,\n",
       "       5512.5      , 5598.6328125, 5684.765625 , 5770.8984375,\n",
       "       5857.03125  , 5943.1640625, 6029.296875 , 6115.4296875,\n",
       "       6201.5625   , 6287.6953125, 6373.828125 , 6459.9609375,\n",
       "       6546.09375  , 6632.2265625, 6718.359375 , 6804.4921875,\n",
       "       6890.625    , 6976.7578125, 7062.890625 , 7149.0234375,\n",
       "       7235.15625  , 7321.2890625, 7407.421875 , 7493.5546875,\n",
       "       7579.6875   , 7665.8203125, 7751.953125 , 7838.0859375,\n",
       "       7924.21875  , 8010.3515625])"
      ]
     },
     "execution_count": 161,
     "metadata": {},
     "output_type": "execute_result"
    }
   ],
   "source": [
    "freq_bins"
   ]
  },
  {
   "cell_type": "code",
   "execution_count": 163,
   "metadata": {},
   "outputs": [],
   "source": [
    "h = [0, 300, 517.33, 781.90, 1103.97, 1496.04, 1973.32, 2554.33, \n",
    "       3261.62, 4122.63, 5170.76, 6446.70, 8000]"
   ]
  },
  {
   "cell_type": "code",
   "execution_count": 170,
   "metadata": {},
   "outputs": [],
   "source": [
    "w=[]\n",
    "w1\n",
    "for i in range(13):\n",
    "    if i==0:\n",
    "        continue\n",
    "    w.append(1/(h[i]-h[i-1]))"
   ]
  },
  {
   "cell_type": "code",
   "execution_count": 378,
   "metadata": {},
   "outputs": [
    {
     "data": {
      "text/plain": [
       "[0.0033333333333333335,\n",
       " 0.004601297565913587,\n",
       " 0.0037797180330347365,\n",
       " 0.003104915080572546,\n",
       " 0.0025505649501364556,\n",
       " 0.0020952061682869595,\n",
       " 0.0017211407721037504,\n",
       " 0.0014138472196694426,\n",
       " 0.0011614266965540468,\n",
       " 0.000954080123648784,\n",
       " 0.0007837359123469758,\n",
       " 0.0006437906392841047]"
      ]
     },
     "execution_count": 378,
     "metadata": {},
     "output_type": "execute_result"
    }
   ],
   "source": [
    "w"
   ]
  },
  {
   "cell_type": "code",
   "execution_count": 379,
   "metadata": {},
   "outputs": [],
   "source": [
    "c= []\n",
    "for i in range(12):\n",
    "    if i==0:\n",
    "        c.append(0)\n",
    "    else:\n",
    "        c.append(1-w[i]*h[i])\n",
    "    \n",
    "c1= []\n",
    "for i in range(12):\n",
    "    if i==0:\n",
    "        c1.append(1)\n",
    "    else:\n",
    "        c1.append(1+w[i]*h[i])"
   ]
  },
  {
   "cell_type": "code",
   "execution_count": 380,
   "metadata": {},
   "outputs": [
    {
     "data": {
      "text/plain": [
       "8000"
      ]
     },
     "execution_count": 380,
     "metadata": {},
     "output_type": "execute_result"
    }
   ],
   "source": [
    "h[12]"
   ]
  },
  {
   "cell_type": "code",
   "execution_count": 381,
   "metadata": {},
   "outputs": [
    {
     "data": {
      "text/plain": [
       "1.0"
      ]
     },
     "execution_count": 381,
     "metadata": {},
     "output_type": "execute_result"
    }
   ],
   "source": [
    "-w[11]*h[11] + c1[11]"
   ]
  },
  {
   "cell_type": "code",
   "execution_count": 370,
   "metadata": {},
   "outputs": [
    {
     "data": {
      "text/plain": [
       "13"
      ]
     },
     "execution_count": 370,
     "metadata": {},
     "output_type": "execute_result"
    }
   ],
   "source": [
    "len(h)"
   ]
  },
  {
   "cell_type": "code",
   "execution_count": 336,
   "metadata": {},
   "outputs": [
    {
     "data": {
      "text/plain": [
       "[0.0033333333333333335,\n",
       " 0.004601297565913587,\n",
       " 0.0037797180330347365,\n",
       " 0.003104915080572546,\n",
       " 0.0025505649501364556,\n",
       " 0.0020952061682869595,\n",
       " 0.0017211407721037504,\n",
       " 0.0014138472196694426,\n",
       " 0.0011614266965540468,\n",
       " 0.000954080123648784,\n",
       " 0.0007837359123469758,\n",
       " 0.0006437906392841047]"
      ]
     },
     "execution_count": 336,
     "metadata": {},
     "output_type": "execute_result"
    }
   ],
   "source": [
    "w"
   ]
  },
  {
   "cell_type": "code",
   "execution_count": 382,
   "metadata": {},
   "outputs": [
    {
     "name": "stdout",
     "output_type": "stream",
     "text": [
      "507046824.61054546\n",
      "447606702.4803299\n",
      "426506620.21282244\n",
      "319770168.6031327\n",
      "264267513.09633744\n",
      "393752518.10700303\n",
      "221673426.8718509\n",
      "576914483.1228598\n",
      "640864667.4914788\n",
      "16737103029.614037\n",
      "7084111014.102198\n",
      "64640136582.934006\n",
      "85966598174.32007\n",
      "33663493386.353092\n",
      "73422610684.72153\n",
      "138537488924.7233\n",
      "15035092098.017138\n",
      "29043603761.33474\n",
      "44049524067.07971\n",
      "51588729456.47432\n",
      "67440634023.98231\n",
      "80477989969.32861\n",
      "27541082281.135857\n",
      "295425428251.2499\n",
      "10307863081.810265\n",
      "19502681073.372635\n",
      "67175492651.400986\n",
      "26742628609.427803\n",
      "264405016068.34738\n",
      "10098847704.88673\n",
      "88697358553.1292\n",
      "107485130538.79176\n",
      "81522345367.06355\n",
      "9361660569.178154\n",
      "53464516415.6687\n",
      "6208167769.9345875\n",
      "78961679318.24329\n",
      "83368613841.8073\n",
      "54830989260.64942\n",
      "225771283495.40765\n",
      "102165276126.96196\n",
      "19466353316.568207\n",
      "253907367050.96512\n",
      "39516556453.81274\n",
      "100934277522.53723\n",
      "93692231783.22856\n",
      "33553225889.385284\n",
      "86485498835.37318\n",
      "11076803596.558666\n",
      "100733646452.66092\n",
      "48183993643.354614\n",
      "2254881613.660105\n",
      "13190570476.043495\n",
      "26345285135.73244\n",
      "9934267990.100609\n",
      "5092270871.537883\n",
      "16934843755.905254\n",
      "4997355295.43904\n",
      "3811053262.7055874\n",
      "1740870788.5123546\n",
      "623311043.9931134\n",
      "1063872065.2092314\n",
      "194031056.3409\n",
      "137258921.28344887\n",
      "92797309.63676973\n",
      "72770875.10157192\n",
      "94213848.97770227\n",
      "59529944.31025332\n",
      "190585127.0958521\n",
      "129162359.35379095\n",
      "281200529.8727568\n",
      "241709672.66511038\n",
      "126985440.21067737\n",
      "136701183.96664694\n",
      "90218360.72704414\n"
     ]
    }
   ],
   "source": [
    "o = np.ones((len(spec),len(c)))\n",
    "k=0\n",
    "for spec_frame in spec:\n",
    "    for i in range(len(h)-1):\n",
    "        temp_o = 0\n",
    "        if i==0:\n",
    "            for j in range(len(freq_bins)):\n",
    "                f = freq_bins[j]\n",
    "                if f<h[i+1]:\n",
    "                    temp_o=temp_o+(-w[i]*f+c1[i])*spec_frame[j]\n",
    "            print(temp_o)\n",
    "            o[k,i] = temp_o\n",
    "            \n",
    "        else:\n",
    "            for j in range(len(freq_bins)):\n",
    "                f = freq_bins[j]\n",
    "                if f>h[i-1] and f<h[i]:\n",
    "                    temp_o=temp_o+(w[i]*f+c[i])*spec_frame[j]\n",
    "                elif (f>h[i] and f<(2*h[i]-h[i-1])):\n",
    "                    temp_o=temp_o+(-w[i]*f+c1[i])*spec_frame[j]\n",
    "            o[k,i] = temp_o\n",
    "            \n",
    "    k=k+1 \n"
   ]
  },
  {
   "cell_type": "code",
   "execution_count": 383,
   "metadata": {},
   "outputs": [
    {
     "data": {
      "text/plain": [
       "array([22.68112023, 23.22588213, 22.2283641 , 17.41757127, 17.64009075,\n",
       "       16.76351973, 15.87153629, 14.92793705, 14.89077028, 15.46730013,\n",
       "       15.75248656, 15.93721665])"
      ]
     },
     "execution_count": 383,
     "metadata": {},
     "output_type": "execute_result"
    }
   ],
   "source": [
    "np.log(o[10])"
   ]
  },
  {
   "cell_type": "code",
   "execution_count": 396,
   "metadata": {},
   "outputs": [
    {
     "data": {
      "text/plain": [
       "[<matplotlib.lines.Line2D at 0x219bd602be0>]"
      ]
     },
     "execution_count": 396,
     "metadata": {},
     "output_type": "execute_result"
    },
    {
     "data": {
      "image/png": "[encoded data removed]",
      "text/plain": [
       "<Figure size 432x288 with 1 Axes>"
      ]
     },
     "metadata": {
      "needs_background": "light"
     },
     "output_type": "display_data"
    }
   ],
   "source": [
    "pyplot.plot(np.log(o[13]))"
   ]
  },
  {
   "cell_type": "code",
   "execution_count": 177,
   "metadata": {},
   "outputs": [
    {
     "data": {
      "text/plain": [
       "2.380389269774076"
      ]
     },
     "execution_count": 177,
     "metadata": {},
     "output_type": "execute_result"
    }
   ],
   "source": []
  },
  {
   "cell_type": "code",
   "execution_count": null,
   "metadata": {},
   "outputs": [],
   "source": []
  }
 ],
 "metadata": {
  "kernelspec": {
   "display_name": "Python 3",
   "language": "python",
   "name": "python3"
  },
  "language_info": {
   "codemirror_mode": {
    "name": "ipython",
    "version": 3
   },
   "file_extension": ".py",
   "mimetype": "text/x-python",
   "name": "python",
   "nbconvert_exporter": "python",
   "pygments_lexer": "ipython3",
   "version": "3.6.6"
  }
 },
 "nbformat": 4,
 "nbformat_minor": 2
}
